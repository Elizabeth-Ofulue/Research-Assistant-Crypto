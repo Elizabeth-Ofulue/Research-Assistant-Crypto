{
 "cells": [
  {
   "cell_type": "markdown",
   "metadata": {},
   "source": [
    "## Finance\n",
    "> ### Question 1:\n",
    "Write a 500-word explanation of Bitcoin stock-to-flow model and make an argument for why it is a bad model? "
   ]
  },
  {
   "cell_type": "markdown",
   "metadata": {},
   "source": [
    "> ### Solution\n",
    "> \n",
    "> Bitcoin is the first digital object that cannot be copied, duplicated, pirated or forged. It is the first digitally scarce thing known to mankind and is relatively costly to produce, with a maximum supply estimated at about 21 million coins. These primary attributes give Bitcoin its unique value.\n",
    ">\n",
    "> The Stock to Flow model is a means of measuring the abundance of a particular resource. It measures the relationship between the currently available stock of a resource and its production rate. It is typically applied to precious metals and natural resources e.g. Gold\n",
    ">\n",
    "> The Bitcoin Stock to Flow model relies on the assumption that scarcity, as measured by the model, should drive value. Although every model is as strong as its assumptions, this assumption may not be able to account for all aspects of Bitcoin valuation thereby making the model vulnerable and flawed. In this case, the Bitcoin stock to flow model is deemed flawed and a bad model due to the following:\n",
    ">\n",
    "> * Bitcoin doesn’t have any other useful qualities other than supply scarcity: with Gold having scarcity, predictable flow, and global liquidity, it is a relatively stable store of value. The same cannot be said of Bitcoin as it is likely to be prone to devaluation despite its scarcity if other qualities are absent.\n",
    "> * Bitcoin’s volatility spikes over time: the valuation of an asset requires taking into account its volatility and according to the stock to flow model, Bitcoin’s volatility should also decrease over time. This is confirmed by historical data from Coinmetrics.. If the volatility is predictable to some extent, the valuation model may be more reliable. However, Bitcoin is notorious for its large price changes.\n",
    ">\n",
    "> While the volatility may be decreasing on the macro level, Bitcoin will have been priced in a free market from its inception. This means that the price is mostly self-regulated on the open market by users, traders, and speculators. Combining this factor with the relatively low liquidity, Bitcoin is seen to be most likely exposed to sudden spikes of volatility than other assets. The stock to flow model may not be able to account for this either.\n",
    "> * Another factor to be considered that could also undermine this model, is the economic Black Swan events. A Black Swan event, is an event with an element of surprise which has a significant effect. It should be noted that historical data cannot account for unknown event and this factor applies to the stock to flow model or any other model that tries to predict the price of an asset based on historical data.\n",
    "> * Data Accuracy: it should be noted that at this time Bitcoin has only existed for a little over 10 years. Although Bitcoin has already been the best performing investment in the 2010s, it will need to be the best performing asset in every single decade in this century for the stock-to-flow model to continue working. Therefore, there is need for a larger data set for more reliable accuracy with the use of long-term valuation models like the Stock to Flow."
   ]
  },
  {
   "cell_type": "markdown",
   "metadata": {},
   "source": [
    "> ### Question 2:\n",
    " Yara Inc is listed on the NYSE with a stock price of `$40` - the company is not known to pay dividends. We need to price a call option with a strike of `$45` maturing in 4 months. The continuously-compounded risk-free rate is 3%/year, the mean return on the stock is 7%/year, and the standard deviation of the stock return is 40%/year. What is the Black-Scholes call price?"
   ]
  },
  {
   "cell_type": "markdown",
   "metadata": {},
   "source": [
    "> ### Solution\n",
    ">\n",
    "> * Stock price (S) = 40\n",
    ">\n",
    "> * Strike_price (Str) = 45\n",
    ">\n",
    "> * Interest_rate (R) = 0.033\n",
    ">\n",
    "> * Time_to_maturity (T) = 4 months\n",
    ">\n",
    "> * Std_returns $(\\sigma)$ is the standard deviation of the stock returns = 0.40\n",
    ">\n",
    "> * Bond price (B) is the present value of receiving the strike at maturity.\n",
    ">> $Bond price(B) = str * \\exp(-r * \\frac{t}{12})$"
   ]
  },
  {
   "cell_type": "code",
   "execution_count": 1,
   "metadata": {},
   "outputs": [],
   "source": [
    "# importing libraries\n",
    "import numpy as np\n",
    "import scipy.stats as si\n",
    "from sympy.stats import Normal, cdf"
   ]
  },
  {
   "cell_type": "code",
   "execution_count": 2,
   "metadata": {},
   "outputs": [],
   "source": [
    "# defining variables\n",
    "s = 40\n",
    "str_p = 45\n",
    "r = 0.033\n",
    "std_ret = 0.40\n",
    "t = 4/12\n",
    "b = str_p * np.exp(-r * t)"
   ]
  },
  {
   "cell_type": "code",
   "execution_count": 3,
   "metadata": {},
   "outputs": [],
   "source": [
    "# creating a function that calculates the black scholes price using defined variables\\n\",\n",
    "\n",
    "def black_scholes(S, Str, T, R, sigma):\n",
    "    \n",
    "    #S: stock price\n",
    "    #Str: strike price\n",
    "    #T: time to maturity\n",
    "    #R: interest rate\n",
    "    #sigma: standard deviation of stock return\n",
    "    \n",
    "    b = Str * np.exp(-R * T)\n",
    "    x1 = (np.log(S / Str) + (R + 0.5 * sigma ** 2) * T) / (sigma * np.sqrt(T))\n",
    "    x2 = (np.log(S / Str) + (R - 0.5 * sigma ** 2) * T) / (sigma * np.sqrt(T))\n",
    "    \n",
    "    call_price = (S * si.norm.cdf(x1, 0.0, 1.0) - b * si.norm.cdf(x2, 0.0, 1.0))\n",
    "    \n",
    "    return call_price"
   ]
  },
  {
   "cell_type": "code",
   "execution_count": 4,
   "metadata": {},
   "outputs": [
    {
     "data": {
      "text/plain": [
       "2.03612776783808"
      ]
     },
     "execution_count": 4,
     "metadata": {},
     "output_type": "execute_result"
    }
   ],
   "source": [
    "# Applying the lack scholes function to calculate the Black Scholes call price\n",
    "\n",
    "black_scholes(s, str_p, t, r, std_ret)"
   ]
  },
  {
   "cell_type": "markdown",
   "metadata": {},
   "source": [
    "## Computer Science\n",
    "> ### Question 1:\n",
    "Why is it a bad idea to use recursion method to find the fibonacci of a number?  "
   ]
  },
  {
   "cell_type": "markdown",
   "metadata": {},
   "source": [
    "> ### Solution\n",
    ">\n",
    "> The recursion method is a function that is partially defined by itself and consists of some simple case with a known answer. Example: Fibonacci number sequence.\n",
    ">\n",
    "> The recursive method is not the best for computing the fibonacci algorithm of a number due to its poor performance especially when dealing with higher numbers.\n",
    ">\n",
    "> The poor performance occurs as a result of heavy push-pop of the stack memory in each recursive call.This is because during implementation, the redundant calls are added by recomputing the same values over and over again which therefore results in more overhead. i.e.\n",
    "> * fib(5) = fib(4) + fib(3)\n",
    "> * fib(4) = fib(3) + fib(2)\n",
    "> * fib(3) = fib(2) + fib(1)\n",
    "> * fib(2) = fib(1) + fib(0)\n",
    ">\n",
    "> Hence the processing is slow and the program takes longer run. "
   ]
  },
  {
   "cell_type": "markdown",
   "metadata": {},
   "source": [
    "> ### Question 2:\n",
    "Write a function that takes in a Proth Number and uses Proth's theorem to determine if said number is prime? You can write this in any programming language but C/C++/Golang are preferred"
   ]
  },
  {
   "cell_type": "markdown",
   "metadata": {},
   "source": [
    "> ### Solution \n",
    ">\n",
    "> The solution is given using Python Programming Language."
   ]
  },
  {
   "cell_type": "code",
   "execution_count": 5,
   "metadata": {},
   "outputs": [],
   "source": [
    "import math as mt\n",
    "\n",
    "# Creating a function to calculate all primes less than or equal to n. \n",
    "prime = [0 for i in range(1000000)]\n",
    "\n",
    "def SieveOfEratosthenes(n):\n",
    "    # Creating a boolean array\n",
    "    # Initializing all entries as true\n",
    "    # A value in prime[i] is true if i is a prime and false if i is not a prime \n",
    "    for i in range(1, n + 2):\n",
    "        prime[i] = True\n",
    "  \n",
    "    prime[1] = False\n",
    "  \n",
    "    for p in range(2, mt.ceil(n**(0.5))):\n",
    "          \n",
    "        # If prime[p] doesn't change, then it is a prime \n",
    "        if (prime[p] == True):\n",
    "\n",
    "            # Updating all the multiples of p greater than or equal to the square of its numbers  \n",
    "            for i in range(p * p, n + 1, p): \n",
    "                prime[i] = False\n",
    "        p += 1\n",
    "\n",
    "# Creating a function to check the power of two \n",
    "def PowerOfTwo(n): \n",
    "    return (n and (n & (n - 1)) == False) \n",
    "\n",
    "# Creating a function to check if the given number is a Proth number or not \n",
    "def ProthNumber(n): \n",
    "    k = 1\n",
    "    while (k < (n // k)): \n",
    "        # Checking if k divides n or not \n",
    "        if (n % k == 0): \n",
    "\n",
    "            # Checking if n/k is power of 2 or not \n",
    "            if (PowerOfTwo(n // k)): \n",
    "                return True\n",
    "            \n",
    "        # Updating k to the next odd number \n",
    "        k = k + 2\n",
    "\n",
    "    # If there is no value of K such that k is an odd number and n/k is a power of 2 greater than k then;\n",
    "    return False\n",
    "\n",
    "# Creating a function to check if the given number is a Proth Prime or not. \n",
    "def ProthPrime(n): \n",
    "\n",
    "    # Checking n for Proth Number \n",
    "    if (ProthNumber(n - 1)): \n",
    "\n",
    "        # if n is a proth number and is a prime, return true else return false\n",
    "        if (prime[n]): \n",
    "            return True\n",
    "        else:\n",
    "            return False\n",
    "    \n",
    "    # if n is not a proth number, return false\n",
    "    else: \n",
    "        return False"
   ]
  },
  {
   "cell_type": "code",
   "execution_count": 6,
   "metadata": {},
   "outputs": [
    {
     "name": "stdout",
     "output_type": "stream",
     "text": [
      "3 is a Proth Prime\n",
      "5 is a Proth Prime\n",
      "13 is a Proth Prime\n",
      "17 is a Proth Prime\n"
     ]
    }
   ],
   "source": [
    "# Applying the created functions to find proth primes lesser than or equal to 23\n",
    "n = 23\n",
    "\n",
    "# Applying the SieveOfEratosthenes function to calculate all primes lesser than or equal to n\n",
    "SieveOfEratosthenes(n)\n",
    "for i in range(1, n + 1): \n",
    "    # Applying the ProthPrime function to confirm if n is a ProthNumber and a ProthPrime \n",
    "    if ProthPrime(i) == True: \n",
    "        print(\"{} is a Proth Prime\".format(i)) "
   ]
  },
  {
   "cell_type": "markdown",
   "metadata": {},
   "source": [
    "## Maths\n",
    "> ### Question: \n",
    "Over all real numbers, find the minimum value of a positive real number, y such that:\n",
    "> $y = \\sqrt{(x+6)^2 + 25} + \\sqrt{(x-6)^2 + 121}$"
   ]
  },
  {
   "cell_type": "markdown",
   "metadata": {},
   "source": [
    "> ### Solution\n",
    ">\n",
    "> Using Minkowski Inequality:\n",
    "> $\\sqrt{x_1^2 + y_1^2} + \\sqrt{x_2^2 + y_2^2}   >=  \\sqrt{(x_1 + x_2)^2} + \\sqrt{(y_1 + y_2)^2}$\n",
    "> \n",
    "> Therefore, $\\sqrt{(x+6)^2 + 25} + \\sqrt{(x-6)^2 + 121} = \\sqrt{(x+6)^2 + 5^2} + \\sqrt{(x-6)^2 + 11^2}$ \n",
    ">\n",
    "> = $\\sqrt{(x+6)^2 + 5^2} + \\sqrt{(6-x)^2 + 11^2} >= \\sqrt{(x+6+6-x)^2 + (5+11)^2}$\n",
    "> \n",
    "> = $\\sqrt{(x+6)^2 + 5^2} + \\sqrt{(6-x)^2 + 11^2} >= \\sqrt{12^2 + 16^2}$\n",
    ">\n",
    "> = $\\sqrt{(x+6)^2 + 5^2} + \\sqrt{(6-x)^2 + 11^2} >= \\sqrt{144 + 256}$\n",
    ">\n",
    "> = $\\sqrt{(x+6)^2 + 5^2} + \\sqrt{(6-x)^2 + 11^2} >= \\sqrt{400}$\n",
    ">\n",
    "> = $\\sqrt{(x+6)^2 + 5^2} + \\sqrt{(6-x)^2 + 11^2} >= 20$\n",
    "> \n",
    "> Therefore the minimum value is $20$."
   ]
  }
 ],
 "metadata": {
  "kernelspec": {
   "display_name": "Python 3",
   "language": "python",
   "name": "python3"
  },
  "language_info": {
   "codemirror_mode": {
    "name": "ipython",
    "version": 3
   },
   "file_extension": ".py",
   "mimetype": "text/x-python",
   "name": "python",
   "nbconvert_exporter": "python",
   "pygments_lexer": "ipython3",
   "version": "3.7.7"
  }
 },
 "nbformat": 4,
 "nbformat_minor": 4
}
